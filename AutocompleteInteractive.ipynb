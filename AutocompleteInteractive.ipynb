{
 "cells": [
  {
   "cell_type": "markdown",
   "id": "b201026f",
   "metadata": {},
   "source": [
    "# An Interactive Autocomplete Interface\n",
    "## Chris Tralie"
   ]
  },
  {
   "cell_type": "code",
   "execution_count": null,
   "id": "0c801c90",
   "metadata": {},
   "outputs": [],
   "source": [
    "%load_ext autoreload\n",
    "%autoreload 2\n",
    "\n",
    "import numpy as np\n",
    "import ipywidgets as widgets\n",
    "from IPython.display import display\n",
    "from trie import *\n",
    "\n",
    "class Autocomplete:\n",
    "    def __init__(self, source_filename):\n",
    "        self.counts = {} # Key: word, value: count\n",
    "        self.trie = Trie() # Set of words\n",
    "        with open(\"words.txt\", 'r', encoding=\"UTF-8\") as f:\n",
    "            for line in f.readlines():\n",
    "                word, count = line.split()\n",
    "                word = word.rstrip()\n",
    "                count = int(count)\n",
    "                self.counts[word] = count\n",
    "                self.trie.add(word)\n",
    "    \n",
    "    def all_matches(self, s):\n",
    "        words = self.trie.get_words(s)\n",
    "        # Sort words in descending order of count\n",
    "        words = sorted(words, key=lambda w: -self.counts[w])\n",
    "        return words\n",
    "\n",
    "\n",
    "autocomplete = Autocomplete(\"words.txt\")\n",
    "max_terms = 20\n",
    "\n",
    "    \n",
    "alist = widgets.Select(\n",
    "    options=[],\n",
    "    rows=max_terms,\n",
    "    description='Autocompletions:',\n",
    "    disabled=False\n",
    ")\n",
    "\n",
    "def reset_options(c):\n",
    "    alist.options = tuple([chr(ord(\"a\")+i) for i in range(20)])\n",
    "\n",
    "\n",
    "wtext = widgets.Textarea(\n",
    "    value='',\n",
    "    placeholder='Type something',\n",
    "    description='String:',\n",
    "    disabled=False\n",
    ")\n",
    "\n",
    "def typing(c):\n",
    "    s = wtext.value\n",
    "    if len(s) > 1:\n",
    "        terms = autocomplete.all_matches(s)\n",
    "        alist.options = tuple(terms[0:max_terms])\n",
    "    else:\n",
    "        alist.options = tuple([])\n",
    "\n",
    "wtext.observe(typing)\n",
    "\n",
    "\n",
    "\n",
    "display(wtext)\n",
    "display(alist)"
   ]
  },
  {
   "cell_type": "code",
   "execution_count": null,
   "id": "d0ec913d",
   "metadata": {},
   "outputs": [],
   "source": []
  }
 ],
 "metadata": {
  "kernelspec": {
   "display_name": "Python 3 (ipykernel)",
   "language": "python",
   "name": "python3"
  },
  "language_info": {
   "codemirror_mode": {
    "name": "ipython",
    "version": 3
   },
   "file_extension": ".py",
   "mimetype": "text/x-python",
   "name": "python",
   "nbconvert_exporter": "python",
   "pygments_lexer": "ipython3",
   "version": "3.11.3"
  }
 },
 "nbformat": 4,
 "nbformat_minor": 5
}
